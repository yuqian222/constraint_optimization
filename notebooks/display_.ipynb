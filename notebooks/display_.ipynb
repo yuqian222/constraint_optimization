{
 "cells": [
  {
   "cell_type": "code",
   "execution_count": 1,
   "metadata": {},
   "outputs": [],
   "source": [
    "%matplotlib inline\n",
    "from JSAnimation import IPython_display\n",
    "from matplotlib import animation\n",
    "import matplotlib.pyplot as plt\n",
    "\n",
    "import gym, pickle,os, policies,torch"
   ]
  },
  {
   "cell_type": "code",
   "execution_count": 2,
   "metadata": {},
   "outputs": [],
   "source": [
    "def display_frames_as_gif(frames, name=\"untitled\"):\n",
    "    \"\"\"\n",
    "    Displays a list of frames as a gif, with controls\n",
    "    \"\"\"\n",
    "    plt.figure(figsize=(frames[0].shape[1] / 72.0, frames[0].shape[0] / 72.0), dpi = 72)\n",
    "    patch = plt.imshow(frames[0])\n",
    "    plt.axis('off')\n",
    "\n",
    "    def animate(i):\n",
    "        patch.set_data(frames[i])\n",
    "\n",
    "    anim = animation.FuncAnimation(plt.gcf(), animate, frames = len(frames), interval=50)\n",
    "    anim.save(\"gifs/%s.gif\"%(name), writer='imagemagick', fps=60)\n",
    "    display(IPython_display.display_animation(anim, default_mode='loop'))\n"
   ]
  },
  {
   "cell_type": "code",
   "execution_count": 7,
   "metadata": {},
   "outputs": [],
   "source": [
    "# Run a demo of the environment\n",
    "def get_train_policy(path, env):\n",
    "    constraints_p = [f for f in os.listdir(path) if (\"constraints.p\" in f) ]\n",
    "    constraints = pickle.load(open(path+constraints_p[-1],'rb'))[\"constraints\"]\n",
    "\n",
    "    policy = policies.Policy_quad(env.observation_space.shape[0], env.action_space.shape[0])\n",
    "    states, actions, rewards, info = zip(*constraints)\n",
    "    policy.train(torch.tensor(states),torch.tensor(actions), epoch=500)\n",
    "    return policy\n",
    "    \n",
    "def getframes(policy, env, steps=1000):\n",
    "    observation = env.reset()\n",
    "    cum_reward = 0\n",
    "    frames = []\n",
    "    for t in range(steps):\n",
    "        # Render into buffer. \n",
    "        # You will still see the window.\n",
    "        frames.append(env.render(mode = 'rgb_array'))\n",
    "        obs =  torch.from_numpy(observation).unsqueeze(0).float()\n",
    "        action = policy(obs).detach().numpy()\n",
    "        observation, reward, done, info = env.step(action)\n",
    "        if done:\n",
    "            break\n",
    "    return frames"
   ]
  },
  {
   "cell_type": "code",
   "execution_count": null,
   "metadata": {},
   "outputs": [],
   "source": [
    "path = \"results/Hopper-v2/05_16_03_08/\"\n",
    "env = gym.make('Hopper-v2')\n",
    "policy_1000 = get_train_policy(path,env)\n",
    "frames_1000 = getframes(policy, env)\n",
    "display_frames_as_gif(frames_1000)"
   ]
  },
  {
   "cell_type": "code",
   "execution_count": 26,
   "metadata": {},
   "outputs": [],
   "source": []
  }
 ],
 "metadata": {
  "kernelspec": {
   "display_name": "Python 3",
   "language": "python",
   "name": "python3"
  },
  "language_info": {
   "codemirror_mode": {
    "name": "ipython",
    "version": 3
   },
   "file_extension": ".py",
   "mimetype": "text/x-python",
   "name": "python",
   "nbconvert_exporter": "python",
   "pygments_lexer": "ipython3",
   "version": "3.6.7"
  }
 },
 "nbformat": 4,
 "nbformat_minor": 2
}
